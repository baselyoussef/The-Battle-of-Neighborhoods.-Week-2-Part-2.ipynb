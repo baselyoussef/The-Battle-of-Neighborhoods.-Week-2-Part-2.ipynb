{
    "cells": [
        {
            "metadata": {
                "collapsed": true
            },
            "cell_type": "markdown",
            "source": "## Part 3 Download and Explore New York city and its Boroughs Cuisine dataset"
        },
        {
            "metadata": {},
            "cell_type": "markdown",
            "source": "**Download all the dependencies that is need.**"
        },
        {
            "metadata": {},
            "cell_type": "code",
            "source": "import numpy as np # library to handle data in a vectorized manner\nimport pandas as pd # library for data analsysis\nfrom PIL import Image # converting images into arrays\n\n%matplotlib inline\n\nimport matplotlib as mpl\nimport matplotlib.pyplot as plt\n\nmpl.style.use('ggplot') # optional: for ggplot-like style\n\n# check for latest version of Matplotlib\nprint ('Matplotlib version: ', mpl.__version__) # >= 2.0.0\n\n# install wordcloud\n!conda install -c conda-forge wordcloud==1.4.1 --yes\n\n# import package and its set of stopwords\nfrom wordcloud import WordCloud, STOPWORDS\n\nprint ('Wordcloud is installed and imported!')",
            "execution_count": null,
            "outputs": []
        },
        {
            "metadata": {},
            "cell_type": "code",
            "source": "# Fetch the file\nmy_file = project.get_file(\"BON3_NYC_CUISINE.csv\")\n\n# Read the CSV data file from the object storage into a pandas DataFrame\nmy_file.seek(0)\nimport pandas as pd\nNYC_CUISINE=pd.read_csv(my_file)\nNYC_CUISINE.drop(NYC_CUISINE.columns[[3,4,5,6,7]], axis=1,inplace=True) \nNYC_CUISINE.head()",
            "execution_count": null,
            "outputs": []
        },
        {
            "metadata": {},
            "cell_type": "code",
            "source": "NYC_CUISINE.shape",
            "execution_count": null,
            "outputs": []
        },
        {
            "metadata": {},
            "cell_type": "code",
            "source": "print(NYC_CUISINE.Borough.unique())",
            "execution_count": null,
            "outputs": []
        },
        {
            "metadata": {},
            "cell_type": "code",
            "source": "NYC_CUISINE['Borough'].value_counts().to_frame()",
            "execution_count": null,
            "outputs": []
        },
        {
            "metadata": {},
            "cell_type": "markdown",
            "source": "**1. NEW YORK CITY CUISINE - WORD CLOUD**"
        },
        {
            "metadata": {},
            "cell_type": "code",
            "source": "CUISINE_WC = NYC_CUISINE[['Cuisine']]\nCUISINE_WC",
            "execution_count": null,
            "outputs": []
        },
        {
            "metadata": {},
            "cell_type": "code",
            "source": "CUISINE_WC.to_csv('CUISINE_WC.txt', sep=',', index=False)",
            "execution_count": null,
            "outputs": []
        },
        {
            "metadata": {},
            "cell_type": "code",
            "source": "CUISINE_WC1 = open('CUISINE_WC.txt', 'r').read()",
            "execution_count": null,
            "outputs": []
        },
        {
            "metadata": {},
            "cell_type": "markdown",
            "source": "Use the stopwords that we imported from word_cloud. We use the function set to remove any redundant stopwords."
        },
        {
            "metadata": {},
            "cell_type": "code",
            "source": "stopwords = set(STOPWORDS)",
            "execution_count": null,
            "outputs": []
        },
        {
            "metadata": {},
            "cell_type": "code",
            "source": "# instantiate a word cloud object\nNYC_CUISINE_WC = WordCloud(\n    background_color='white',\n    max_words=2000,\n    stopwords=stopwords\n)\n\n# generate the word cloud\nNYC_CUISINE_WC.generate(CUISINE_WC1)",
            "execution_count": null,
            "outputs": []
        },
        {
            "metadata": {},
            "cell_type": "markdown",
            "source": "The word cloud is created, let's visualize it."
        },
        {
            "metadata": {},
            "cell_type": "code",
            "source": "# display the word cloud\nplt.imshow(NYC_CUISINE_WC, interpolation='bilinear')\nplt.axis('off')\n\nfig = plt.figure()\nfig.set_figwidth(30)\nfig.set_figheight(45)\n\nplt.show()",
            "execution_count": null,
            "outputs": []
        },
        {
            "metadata": {},
            "cell_type": "markdown",
            "source": "Most Preferred Food in New York City -\n\n1.Italian\n2.Purto Rican\n3.Mexican\n4.Jewish\n5.Indian\n6.Pakistani\n7.Dominican"
        },
        {
            "metadata": {},
            "cell_type": "markdown",
            "source": "**BROOKLYN CUISINE - WORD CLOUD**"
        },
        {
            "metadata": {},
            "cell_type": "code",
            "source": "Brooklyn_data = NYC_CUISINE[NYC_CUISINE['Borough'] == 'Brooklyn'].reset_index(drop=True)\nBrooklyn_data.head()",
            "execution_count": null,
            "outputs": []
        },
        {
            "metadata": {},
            "cell_type": "code",
            "source": "BR_CUISINE_WC = Brooklyn_data[['Cuisine']]\nBR_CUISINE_WC",
            "execution_count": null,
            "outputs": []
        },
        {
            "metadata": {},
            "cell_type": "code",
            "source": "BR_CUISINE_WC.to_csv('BR_CUISINE.txt', sep=',', index=False)",
            "execution_count": null,
            "outputs": []
        },
        {
            "metadata": {},
            "cell_type": "code",
            "source": "BR_CUISINE_WC = open('BR_CUISINE.txt', 'r').read()",
            "execution_count": null,
            "outputs": []
        },
        {
            "metadata": {},
            "cell_type": "code",
            "source": "stopwords = set(STOPWORDS)",
            "execution_count": null,
            "outputs": []
        },
        {
            "metadata": {},
            "cell_type": "code",
            "source": "# instantiate a word cloud object\nBR_CUISINE_NYC = WordCloud(\n    background_color='white',\n    max_words=2000,\n    stopwords=stopwords\n)\n\n# generate the word cloud\nBR_CUISINE_NYC.generate(BR_CUISINE_WC)",
            "execution_count": null,
            "outputs": []
        },
        {
            "metadata": {},
            "cell_type": "code",
            "source": "# display the word cloud\nplt.imshow(BR_CUISINE_NYC, interpolation='bilinear')\nplt.axis('off')\n\nfig = plt.figure()\nfig.set_figwidth(30)\nfig.set_figheight(45)\n\nplt.show()",
            "execution_count": null,
            "outputs": []
        },
        {
            "metadata": {},
            "cell_type": "markdown",
            "source": "Most Preferred Food in Brooklyn is -\n\n1.Italian\n2.Purto Rican\n3.Mexican"
        },
        {
            "metadata": {},
            "cell_type": "markdown",
            "source": "**QUEENS CUISINE - WORD CLOUD**"
        },
        {
            "metadata": {},
            "cell_type": "code",
            "source": "Queens_data = NYC_CUISINE[NYC_CUISINE['Borough'] == 'Queens'].reset_index(drop=True)\nQueens_data.head()",
            "execution_count": null,
            "outputs": []
        },
        {
            "metadata": {},
            "cell_type": "code",
            "source": "Q_CUISINE_WC = Queens_data[['Cuisine']]\nQ_CUISINE_WC",
            "execution_count": null,
            "outputs": []
        },
        {
            "metadata": {},
            "cell_type": "code",
            "source": "Q_CUISINE_WC.to_csv('Q_CUISINE.txt', sep=',', index=False)",
            "execution_count": null,
            "outputs": []
        },
        {
            "metadata": {},
            "cell_type": "code",
            "source": "Q_CUISINE_WC = open('Q_CUISINE.txt', 'r').read()",
            "execution_count": null,
            "outputs": []
        },
        {
            "metadata": {},
            "cell_type": "code",
            "source": "stopwords = set(STOPWORDS)",
            "execution_count": null,
            "outputs": []
        },
        {
            "metadata": {},
            "cell_type": "code",
            "source": "# instantiate a word cloud object\nQ_CUISINE_NYC = WordCloud(\n    background_color='white',\n    max_words=2000,\n    stopwords=stopwords\n)\n\n# generate the word cloud\nQ_CUISINE_NYC.generate(Q_CUISINE_WC)",
            "execution_count": null,
            "outputs": []
        },
        {
            "metadata": {},
            "cell_type": "code",
            "source": "# display the word cloud\nplt.imshow(Q_CUISINE_NYC, interpolation='bilinear')\nplt.axis('off')\n\nfig = plt.figure()\nfig.set_figwidth(30)\nfig.set_figheight(45)\n\nplt.show()",
            "execution_count": null,
            "outputs": []
        },
        {
            "metadata": {},
            "cell_type": "markdown",
            "source": "Most Preferred Food in Queens is -\n\n1.Indian\n2.Irish\n3.Pakistani\n4.Mexican"
        },
        {
            "metadata": {},
            "cell_type": "markdown",
            "source": "**MANHATTAN CUISINE - WORD CLOUD**"
        },
        {
            "metadata": {},
            "cell_type": "code",
            "source": "Manhattan_data = NYC_CUISINE[NYC_CUISINE['Borough'] == 'Manhattan'].reset_index(drop=True)\nManhattan_data.head()",
            "execution_count": null,
            "outputs": []
        },
        {
            "metadata": {},
            "cell_type": "code",
            "source": "MN_CUISINE_WC = Manhattan_data[['Cuisine']]\nMN_CUISINE_WC",
            "execution_count": null,
            "outputs": []
        },
        {
            "metadata": {},
            "cell_type": "code",
            "source": "MN_CUISINE_WC.to_csv('MN_CUISINE.txt', sep=',', index=False)",
            "execution_count": null,
            "outputs": []
        },
        {
            "metadata": {},
            "cell_type": "code",
            "source": "MN_CUISINE_WC = open('MN_CUISINE.txt', 'r').read()",
            "execution_count": null,
            "outputs": []
        },
        {
            "metadata": {},
            "cell_type": "code",
            "source": "stopwords = set(STOPWORDS)",
            "execution_count": null,
            "outputs": []
        },
        {
            "metadata": {},
            "cell_type": "code",
            "source": "# instantiate a word cloud object\nMN_CUISINE_NYC = WordCloud(\n    background_color='white',\n    max_words=2000,\n    stopwords=stopwords\n)\n\n# generate the word cloud\nMN_CUISINE_NYC.generate(MN_CUISINE_WC)",
            "execution_count": null,
            "outputs": []
        },
        {
            "metadata": {},
            "cell_type": "code",
            "source": "# display the word cloud\nplt.imshow(MN_CUISINE_NYC, interpolation='bilinear')\nplt.axis('off')\n\nfig = plt.figure()\nfig.set_figwidth(30)\nfig.set_figheight(45)\n\nplt.show()",
            "execution_count": null,
            "outputs": []
        },
        {
            "metadata": {},
            "cell_type": "markdown",
            "source": "Most Preferred Food in Manhattan is -\n\n1.Italian\n2.American\n3.Puerto Rican\n4.Indian"
        },
        {
            "metadata": {},
            "cell_type": "markdown",
            "source": "**THE BRONX CUISINE - WORD CLOUD**"
        },
        {
            "metadata": {},
            "cell_type": "code",
            "source": "Bronx_data = NYC_CUISINE[NYC_CUISINE['Borough'] == 'The Bronx'].reset_index(drop=True)\nBronx_data.head()",
            "execution_count": null,
            "outputs": []
        },
        {
            "metadata": {},
            "cell_type": "code",
            "source": "BX_CUISINE_WC = Bronx_data[['Cuisine']]\nBX_CUISINE_WC",
            "execution_count": null,
            "outputs": []
        },
        {
            "metadata": {},
            "cell_type": "code",
            "source": "BX_CUISINE_WC.to_csv('BX_CUISINE.txt', sep=',', index=False)",
            "execution_count": null,
            "outputs": []
        },
        {
            "metadata": {},
            "cell_type": "code",
            "source": "BX_CUISINE_WC = open('BX_CUISINE.txt', 'r').read()",
            "execution_count": null,
            "outputs": []
        },
        {
            "metadata": {},
            "cell_type": "code",
            "source": "stopwords = set(STOPWORDS)",
            "execution_count": null,
            "outputs": []
        },
        {
            "metadata": {},
            "cell_type": "code",
            "source": "# instantiate a word cloud object\nBX_CUISINE_NYC = WordCloud(\n    background_color='white',\n    max_words=2000,\n    stopwords=stopwords\n)\n\n# generate the word cloud\nBX_CUISINE_NYC.generate(BX_CUISINE_WC)",
            "execution_count": null,
            "outputs": []
        },
        {
            "metadata": {},
            "cell_type": "code",
            "source": "# display the word cloud\nplt.imshow(BX_CUISINE_NYC, interpolation='bilinear')\nplt.axis('off')\n\nfig = plt.figure()\nfig.set_figwidth(30)\nfig.set_figheight(45)\n\nplt.show()",
            "execution_count": null,
            "outputs": []
        },
        {
            "metadata": {},
            "cell_type": "markdown",
            "source": "Most Preferred Food in The Bronx is -\n\n1.Italian\n2.Puerto Rican\n3.Albanian\n4.Dominican"
        },
        {
            "metadata": {},
            "cell_type": "code",
            "source": "",
            "execution_count": null,
            "outputs": []
        }
    ],
    "metadata": {
        "kernelspec": {
            "name": "python3",
            "display_name": "Python 3.6",
            "language": "python"
        },
        "language_info": {
            "name": "python",
            "version": "3.6.9",
            "mimetype": "text/x-python",
            "codemirror_mode": {
                "name": "ipython",
                "version": 3
            },
            "pygments_lexer": "ipython3",
            "nbconvert_exporter": "python",
            "file_extension": ".py"
        }
    },
    "nbformat": 4,
    "nbformat_minor": 1
}